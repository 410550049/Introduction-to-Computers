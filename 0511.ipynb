{
  "nbformat": 4,
  "nbformat_minor": 0,
  "metadata": {
    "colab": {
      "name": "0511.ipynb",
      "provenance": [],
      "authorship_tag": "ABX9TyN8/AV00hNX359yYhe7DlCZ",
      "include_colab_link": true
    },
    "kernelspec": {
      "name": "python3",
      "display_name": "Python 3"
    },
    "language_info": {
      "name": "python"
    }
  },
  "cells": [
    {
      "cell_type": "markdown",
      "metadata": {
        "id": "view-in-github",
        "colab_type": "text"
      },
      "source": [
        "<a href=\"https://colab.research.google.com/github/410550049/Introduction-to-Computers/blob/main/0511.ipynb\" target=\"_parent\"><img src=\"https://colab.research.google.com/assets/colab-badge.svg\" alt=\"Open In Colab\"/></a>"
      ]
    },
    {
      "cell_type": "code",
      "execution_count": 4,
      "metadata": {
        "colab": {
          "base_uri": "https://localhost:8080/"
        },
        "id": "ahLnBKE5g9ZS",
        "outputId": "d0a528ba-c7a2-4fc1-bbcb-8a6cf72ec274"
      },
      "outputs": [
        {
          "output_type": "stream",
          "name": "stdout",
          "text": [
            "請輸入體溫36\n",
            "體溫正常!\n"
          ]
        }
      ],
      "source": [
        "temp = float(input(\"請輸入體溫\"))\n",
        "if temp >= 37.5:\n",
        "    print(\"體溫過高!\")\n",
        "elif temp >= 37 and temp < 37.4:\n",
        "    print(\"體溫略高!\")\n",
        "elif temp < 36.9 and temp >= 34:\n",
        "    print(\"體溫正常!\")\n",
        "else:\n",
        "    print(\"體溫異常，請重新量測!\")"
      ]
    },
    {
      "cell_type": "code",
      "source": [
        "money = int(input(\"請輸入購物金額:\"))\n",
        "if (money >= 100000):\n",
        "    if(money >= 100000):\n",
        "      print(\"八折\",money*0.8,end=\"元\\n\")\n",
        "    elif(money >= 50000):\n",
        "      print(\"八五折\",money*0.85,end=\"元\\n\")\n",
        "    elif(money >= 30000):\n",
        "      print(\"九折\",money*0.9,end=\"元\\n\")\n",
        "    else:\n",
        "      print(\"九五折\",money*0.95,end=\"元\\n\")\n",
        "else:\n",
        "    print(\"沒打折\",money,end=\"元\\n\")"
      ],
      "metadata": {
        "colab": {
          "base_uri": "https://localhost:8080/"
        },
        "id": "wXFCBEoblk88",
        "outputId": "95d1ee51-5bc7-4129-bd96-a30f27c828d9"
      },
      "execution_count": 7,
      "outputs": [
        {
          "output_type": "stream",
          "name": "stdout",
          "text": [
            "請輸入購物金額:100000\n",
            "八折 80000.0元\n"
          ]
        }
      ]
    },
    {
      "cell_type": "code",
      "source": [
        "grade = int(input(\"請輸入成績\"))\n",
        "if (grade >= 90):\n",
        "    print(\"A\")\n",
        "elif (grade >= 80 and grade <= 89):\n",
        "    print(\"B\")\n",
        "elif (grade >= 70 and grade <= 79):\n",
        "    print(\"C\")\n",
        "elif (grade >= 60 and grade <= 69):\n",
        "    print(\"D\")\n",
        "else:\n",
        "    print(\"E\")"
      ],
      "metadata": {
        "colab": {
          "base_uri": "https://localhost:8080/"
        },
        "id": "7yZb8V98pgoD",
        "outputId": "a44d5c80-d4f2-45ae-df7f-eab39d3213fa"
      },
      "execution_count": 10,
      "outputs": [
        {
          "output_type": "stream",
          "name": "stdout",
          "text": [
            "請輸入成績90\n",
            "A\n"
          ]
        }
      ]
    },
    {
      "cell_type": "code",
      "source": [
        "grade = int(input(\"請輸入成績\"))\n",
        "if (grade >= 90):\n",
        "    print(\"A\")\n",
        "elif (grade >= 80 and grade <= 89):\n",
        "    print(\"B\")\n",
        "elif (grade >= 70 and grade <= 79):\n",
        "    print(\"C\")\n",
        "elif (grade >= 60 and grade <= 69):\n",
        "    print(\"D\")\n",
        "else:\n",
        "    print(\"E\")"
      ],
      "metadata": {
        "colab": {
          "base_uri": "https://localhost:8080/"
        },
        "id": "Ppf4KFcYsE1_",
        "outputId": "ab6957b1-70cf-4fa3-9936-cb982f2b000a"
      },
      "execution_count": 11,
      "outputs": [
        {
          "output_type": "stream",
          "name": "stdout",
          "text": [
            "請輸入成績80\n",
            "B\n"
          ]
        }
      ]
    },
    {
      "cell_type": "code",
      "source": [
        "grade = int(input(\"請輸入成績\"))\n",
        "if (grade >= 90):\n",
        "    print(\"A\")\n",
        "elif (grade >= 80 and grade <= 89):\n",
        "    print(\"B\")\n",
        "elif (grade >= 70 and grade <= 79):\n",
        "    print(\"C\")\n",
        "elif (grade >= 60 and grade <= 69):\n",
        "    print(\"D\")\n",
        "else:\n",
        "    print(\"E\")"
      ],
      "metadata": {
        "colab": {
          "base_uri": "https://localhost:8080/"
        },
        "id": "YJmpC_ugsJps",
        "outputId": "35968513-9632-4c7f-e065-6985757edeff"
      },
      "execution_count": 12,
      "outputs": [
        {
          "output_type": "stream",
          "name": "stdout",
          "text": [
            "請輸入成績50\n",
            "E\n"
          ]
        }
      ]
    },
    {
      "cell_type": "code",
      "source": [
        "month = int(input(\"請輸入月份:\"))\n",
        "if (month == 3 or month == 4 or month == 5):\n",
        "    print(month,\"月是春天!\")\n",
        "elif (month == 6 or month == 7 or month == 8):\n",
        "    print(month,\"月是夏天!\")\n",
        "elif (month == 9 or month == 10 or month == 11):\n",
        "    print(month,\"月是秋天!\")\n",
        "elif (month == 12 or month == 1 or month == 2 ):\n",
        "    print(month,\"月是冬天!\")\n",
        "else:\n",
        "    print(\"月份不在範圍內!\")"
      ],
      "metadata": {
        "colab": {
          "base_uri": "https://localhost:8080/"
        },
        "id": "psYfF-1UsMDO",
        "outputId": "31d853bd-3435-459f-aa9a-f3aa31fc3cd5"
      },
      "execution_count": 29,
      "outputs": [
        {
          "output_type": "stream",
          "name": "stdout",
          "text": [
            "請輸入月份:11\n",
            "11 月是秋天!\n"
          ]
        }
      ]
    },
    {
      "cell_type": "code",
      "source": [
        "money = int(input(\"請輸入今年收入淨額:\"))\n",
        "if (money >= 2000000):\n",
        "    if(money >= 2000000):\n",
        "      print(\"付稅金額:\",money*0.3,end=\"元\\n\")\n",
        "    elif(money >= 1000000):\n",
        "      print(\"付稅金額:\",money*0.21,end=\"元\\n\")\n",
        "    elif(money >= 600000):\n",
        "      print(\"付稅金額:\",money*0.13,end=\"元\\n\")\n",
        "    elif(money >= 300000):\n",
        "      print(\"付稅金額:\",money*0.06,end=\"元\\n\")\n",
        "else:\n",
        "      print(\"付稅金額:\",money*0,end=\"元\\n\")"
      ],
      "metadata": {
        "colab": {
          "base_uri": "https://localhost:8080/"
        },
        "id": "uXb-9XuFvjKw",
        "outputId": "81de207f-613c-488e-cbb9-9129488f6994"
      },
      "execution_count": 23,
      "outputs": [
        {
          "output_type": "stream",
          "name": "stdout",
          "text": [
            "請輸入今年收入淨額:2000000\n",
            "付稅金額: 600000.0元\n"
          ]
        }
      ]
    }
  ]
}