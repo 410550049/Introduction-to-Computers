{
  "nbformat": 4,
  "nbformat_minor": 0,
  "metadata": {
    "colab": {
      "name": "0601.ipynb",
      "provenance": [],
      "authorship_tag": "ABX9TyO+8aSU88cEb/B+E8wLZL0d",
      "include_colab_link": true
    },
    "kernelspec": {
      "name": "python3",
      "display_name": "Python 3"
    },
    "language_info": {
      "name": "python"
    }
  },
  "cells": [
    {
      "cell_type": "markdown",
      "metadata": {
        "id": "view-in-github",
        "colab_type": "text"
      },
      "source": [
        "<a href=\"https://colab.research.google.com/github/410550049/Introduction-to-Computers/blob/main/0601.ipynb\" target=\"_parent\"><img src=\"https://colab.research.google.com/assets/colab-badge.svg\" alt=\"Open In Colab\"/></a>"
      ]
    },
    {
      "cell_type": "code",
      "execution_count": 1,
      "metadata": {
        "colab": {
          "base_uri": "https://localhost:8080/"
        },
        "id": "Skcq3n41ma8a",
        "outputId": "6354c06c-6917-4716-ce4f-9c18e0c61f0e"
      },
      "outputs": [
        {
          "output_type": "stream",
          "name": "stdout",
          "text": [
            "a\n"
          ]
        }
      ],
      "source": [
        "print(\"a\")"
      ]
    },
    {
      "cell_type": "code",
      "source": [
        "for j in range(2,10):\n",
        "    for i in range(1,10):\n",
        "        k = i*j\n",
        "        print(\"%d*%d=%2d\" % (j,i,k),end=\" \")\n",
        "    print()"
      ],
      "metadata": {
        "colab": {
          "base_uri": "https://localhost:8080/"
        },
        "id": "5F0p3QbXneLz",
        "outputId": "94679c56-fa0d-4713-a97f-a839472d9614"
      },
      "execution_count": 2,
      "outputs": [
        {
          "output_type": "stream",
          "name": "stdout",
          "text": [
            "2*1= 2 2*2= 4 2*3= 6 2*4= 8 2*5=10 2*6=12 2*7=14 2*8=16 2*9=18 \n",
            "3*1= 3 3*2= 6 3*3= 9 3*4=12 3*5=15 3*6=18 3*7=21 3*8=24 3*9=27 \n",
            "4*1= 4 4*2= 8 4*3=12 4*4=16 4*5=20 4*6=24 4*7=28 4*8=32 4*9=36 \n",
            "5*1= 5 5*2=10 5*3=15 5*4=20 5*5=25 5*6=30 5*7=35 5*8=40 5*9=45 \n",
            "6*1= 6 6*2=12 6*3=18 6*4=24 6*5=30 6*6=36 6*7=42 6*8=48 6*9=54 \n",
            "7*1= 7 7*2=14 7*3=21 7*4=28 7*5=35 7*6=42 7*7=49 7*8=56 7*9=63 \n",
            "8*1= 8 8*2=16 8*3=24 8*4=32 8*5=40 8*6=48 8*7=56 8*8=64 8*9=72 \n",
            "9*1= 9 9*2=18 9*3=27 9*4=36 9*5=45 9*6=54 9*7=63 9*8=72 9*9=81 \n"
          ]
        }
      ]
    },
    {
      "cell_type": "code",
      "source": [
        "a = int(input(\"請輸入 a 的值:\"))\n",
        "b = int(input(\"請輸入 b 的值:\"))\n",
        "for i in range(1,(a*b)+1):\n",
        "    if(i % a==0 and i % b==0):\n",
        "        break\n",
        "print(\"%d 和 %d 的最小公倍數 = %d\"%(a,b,i))"
      ],
      "metadata": {
        "colab": {
          "base_uri": "https://localhost:8080/"
        },
        "id": "SgmocywyoqXx",
        "outputId": "41272a36-4088-410d-9b08-3a215d56d480"
      },
      "execution_count": 4,
      "outputs": [
        {
          "output_type": "stream",
          "name": "stdout",
          "text": [
            "請輸入 a 的值:4\n",
            "請輸入 b 的值:6\n",
            "4 和 6的最小公倍數 = 12\n"
          ]
        }
      ]
    },
    {
      "cell_type": "code",
      "source": [
        "a = int(input(\"請輸入正整數:\"))\n",
        "for n in range(1,a+1):\n",
        "    if n%5==0:\n",
        "        continue\n",
        "    print(n,end=\" \")"
      ],
      "metadata": {
        "colab": {
          "base_uri": "https://localhost:8080/"
        },
        "id": "BCydtBVBqkg0",
        "outputId": "b09b3351-9594-477b-b78c-5ae83332f105"
      },
      "execution_count": 5,
      "outputs": [
        {
          "output_type": "stream",
          "name": "stdout",
          "text": [
            "請輸入正整數:25\n",
            "1 2 3 4 6 7 8 9 11 12 13 14 16 17 18 19 21 22 23 24 "
          ]
        }
      ]
    },
    {
      "cell_type": "code",
      "source": [
        "total = n =0\n",
        "while(n < 10):\n",
        "    n += 1\n",
        "    total += n\n",
        "print(total)"
      ],
      "metadata": {
        "colab": {
          "base_uri": "https://localhost:8080/"
        },
        "id": "Z5MX-EUnrvOm",
        "outputId": "d5c8d277-ce87-47be-b385-853c36304daa"
      },
      "execution_count": 6,
      "outputs": [
        {
          "output_type": "stream",
          "name": "stdout",
          "text": [
            "55\n"
          ]
        }
      ]
    },
    {
      "cell_type": "code",
      "source": [
        "total = n =0\n",
        "while(n <= 10):\n",
        "    total += n\n",
        "    n += 1 \n",
        "print(total)"
      ],
      "metadata": {
        "colab": {
          "base_uri": "https://localhost:8080/"
        },
        "id": "ZmRv_z59tX2z",
        "outputId": "3af85e68-14e4-4036-e8ab-9b0288dc3dc4"
      },
      "execution_count": 9,
      "outputs": [
        {
          "output_type": "stream",
          "name": "stdout",
          "text": [
            "55\n"
          ]
        }
      ]
    },
    {
      "cell_type": "code",
      "source": [
        "total = n =0\n",
        "while n <= 10:\n",
        "    total += n\n",
        "    n += 1 \n",
        "print(total)"
      ],
      "metadata": {
        "colab": {
          "base_uri": "https://localhost:8080/"
        },
        "id": "HJpGIySEulJH",
        "outputId": "5632ddc1-3012-4c5b-8fde-1d6386fd93c5"
      },
      "execution_count": 10,
      "outputs": [
        {
          "output_type": "stream",
          "name": "stdout",
          "text": [
            "55\n"
          ]
        }
      ]
    },
    {
      "cell_type": "code",
      "source": [
        "total = n =0\n",
        "while(n <= 10):\n",
        "    total += n\n",
        "print(total)"
      ],
      "metadata": {
        "colab": {
          "base_uri": "https://localhost:8080/",
          "height": 226
        },
        "id": "8mgqLTwfu13u",
        "outputId": "cc7c210f-77f0-4c2d-ba73-5319412019c7"
      },
      "execution_count": 11,
      "outputs": [
        {
          "output_type": "error",
          "ename": "KeyboardInterrupt",
          "evalue": "ignored",
          "traceback": [
            "\u001b[0;31m---------------------------------------------------------------------------\u001b[0m",
            "\u001b[0;31mKeyboardInterrupt\u001b[0m                         Traceback (most recent call last)",
            "\u001b[0;32m<ipython-input-11-f15d120dcf6f>\u001b[0m in \u001b[0;36m<module>\u001b[0;34m()\u001b[0m\n\u001b[1;32m      1\u001b[0m \u001b[0mtotal\u001b[0m \u001b[0;34m=\u001b[0m \u001b[0mn\u001b[0m \u001b[0;34m=\u001b[0m\u001b[0;36m0\u001b[0m\u001b[0;34m\u001b[0m\u001b[0;34m\u001b[0m\u001b[0m\n\u001b[1;32m      2\u001b[0m \u001b[0;32mwhile\u001b[0m\u001b[0;34m(\u001b[0m\u001b[0mn\u001b[0m \u001b[0;34m<=\u001b[0m \u001b[0;36m10\u001b[0m\u001b[0;34m)\u001b[0m\u001b[0;34m:\u001b[0m\u001b[0;34m\u001b[0m\u001b[0;34m\u001b[0m\u001b[0m\n\u001b[0;32m----> 3\u001b[0;31m     \u001b[0mtotal\u001b[0m \u001b[0;34m+=\u001b[0m \u001b[0mn\u001b[0m\u001b[0;34m\u001b[0m\u001b[0;34m\u001b[0m\u001b[0m\n\u001b[0m\u001b[1;32m      4\u001b[0m \u001b[0mprint\u001b[0m\u001b[0;34m(\u001b[0m\u001b[0mtotal\u001b[0m\u001b[0;34m)\u001b[0m\u001b[0;34m\u001b[0m\u001b[0;34m\u001b[0m\u001b[0m\n",
            "\u001b[0;31mKeyboardInterrupt\u001b[0m: "
          ]
        }
      ]
    },
    {
      "cell_type": "code",
      "source": [
        "total = i = 1\n",
        "n = int(input(\"請輸入請輸入正整數n: \"))\n",
        "while i<=n:\n",
        "    total *= i\n",
        "    i += 1\n",
        "print(\"%d!=%d\"%(n,total))"
      ],
      "metadata": {
        "colab": {
          "base_uri": "https://localhost:8080/"
        },
        "id": "JBNYoAaVvB9N",
        "outputId": "c5da1ca9-2434-4402-83cc-69bd79c18396"
      },
      "execution_count": 12,
      "outputs": [
        {
          "output_type": "stream",
          "name": "stdout",
          "text": [
            "請輸入請輸入正整數n: 5\n",
            "5!=120\n"
          ]
        }
      ]
    },
    {
      "cell_type": "markdown",
      "source": [
        "作業：奇數和、偶數和"
      ],
      "metadata": {
        "id": "LznczxWVxxih"
      }
    },
    {
      "cell_type": "code",
      "source": [
        "n = 0\n",
        "m = 0\n",
        "for i in range(0,51):\n",
        "    if i%2==0:\n",
        "        n += i\n",
        "    else:\n",
        "        m += i\n",
        "print(\"0~50的偶數和結果是%d\"%(n))\n",
        "print(\"0~50的奇數和結果是%d\"%(m))"
      ],
      "metadata": {
        "colab": {
          "base_uri": "https://localhost:8080/"
        },
        "id": "DjCdSK8hwJWc",
        "outputId": "a04a93ea-9834-4d13-9e29-780365502766"
      },
      "execution_count": 17,
      "outputs": [
        {
          "output_type": "stream",
          "name": "stdout",
          "text": [
            "0~50的偶數和結果是650\n",
            "0~50的奇數和結果是625\n"
          ]
        }
      ]
    },
    {
      "cell_type": "markdown",
      "source": [
        "作業：倒三角形"
      ],
      "metadata": {
        "id": "ob1qgXi11AFb"
      }
    },
    {
      "cell_type": "code",
      "source": [
        "a = int(input(\"請輸入正整數: \"))\n",
        "for i in range(0,a+1):\n",
        "    for j in range(0,a-i):\n",
        "        print(\"*\",end=\"\")\n",
        "        k += 1\n",
        "    i += 1\n",
        "    print(\"\\t\")    "
      ],
      "metadata": {
        "colab": {
          "base_uri": "https://localhost:8080/"
        },
        "id": "niyI79Z305Rl",
        "outputId": "3de10ca4-8537-4a62-d243-6d948af950c3"
      },
      "execution_count": 19,
      "outputs": [
        {
          "output_type": "stream",
          "name": "stdout",
          "text": [
            "請輸入正整數: 7\n",
            "*******\t\n",
            "******\t\n",
            "*****\t\n",
            "****\t\n",
            "***\t\n",
            "**\t\n",
            "*\t\n",
            "\t\n"
          ]
        }
      ]
    },
    {
      "cell_type": "markdown",
      "source": [
        "作業：for迴圈 3或7的倍數和"
      ],
      "metadata": {
        "id": "6MPop7hc4MUO"
      }
    },
    {
      "cell_type": "code",
      "source": [
        "a = 0\n",
        "for i in range(1,101):\n",
        "    if i%3==0 or i%7==0:\n",
        "        a=a+i\n",
        "print(\"數值 1~100 中，所有是 3 或 7 倍數的數之總和 =\",(a))"
      ],
      "metadata": {
        "colab": {
          "base_uri": "https://localhost:8080/"
        },
        "id": "Ggs71Zmf4LBq",
        "outputId": "ef8d56a8-7826-4ca4-b3ff-0abe1b82ee31"
      },
      "execution_count": 23,
      "outputs": [
        {
          "output_type": "stream",
          "name": "stdout",
          "text": [
            "數值 1~100 中，所有是 3 或 7 倍數的數之總和 = 2208\n"
          ]
        }
      ]
    },
    {
      "cell_type": "markdown",
      "source": [
        "作業：判斷該數的因數，並判斷該數是否為質數"
      ],
      "metadata": {
        "id": "ko56Rm7f5k6L"
      }
    },
    {
      "cell_type": "code",
      "source": [
        "a = int(input(\"請輸入正整數: \"))\n",
        "print(a,\"的因數有\",end=\"\")\n",
        "for i in range(1,a+1):\n",
        "    if a%i==0:\n",
        "        print(\"%d\"%i,end=\" \")\n",
        "    else:\n",
        "        continue\n",
        "for j in range(2,a):\n",
        "    if a%j==0:\n",
        "        print(\"%d 不是質數\"%a,end=\" \")\n",
        "        break\n",
        "else:\n",
        "    print(\"%d 是質數\"%a,end=\" \")"
      ],
      "metadata": {
        "colab": {
          "base_uri": "https://localhost:8080/"
        },
        "id": "nE2bmGQs5jmb",
        "outputId": "956952a7-a700-4885-fb5d-d3f3c8b337c0"
      },
      "execution_count": 93,
      "outputs": [
        {
          "output_type": "stream",
          "name": "stdout",
          "text": [
            "請輸入正整數: 11\n",
            "11 的因數有1 11 11 是質數 \n",
            "\n"
          ]
        }
      ]
    }
  ]
}